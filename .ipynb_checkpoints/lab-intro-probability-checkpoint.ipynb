{
 "cells": [
  {
   "cell_type": "markdown",
   "metadata": {},
   "source": [
    "# Lab | Intro to Probability"
   ]
  },
  {
   "cell_type": "markdown",
   "metadata": {},
   "source": [
    "**Objective**\n",
    "\n",
    "Welcome to this Intro to Probability lab, where we explore decision-making scenarios through the lens of probability and strategic analysis. In the business world, making informed decisions is crucial, especially when faced with uncertainties. This lab focuses on scenarios where probabilistic outcomes play a significant role in shaping strategies and outcomes. Students will engage in exercises that require assessing and choosing optimal paths based on data-driven insights. The goal is to enhance your skills by applying probability concepts to solve real-world problems."
   ]
  },
  {
   "cell_type": "markdown",
   "metadata": {},
   "source": [
    "**Challenge 1**"
   ]
  },
  {
   "cell_type": "markdown",
   "metadata": {},
   "source": [
    "#### Ironhack Airlines \n",
    "\n",
    "Often Airlines sell more tickets than they have seats available, this is called overbooking. Consider the following:\n",
    "- A plane has 450 seats. \n",
    "- Based on historical data we conclude that each individual passenger has a 3% chance of missing it's flight. \n",
    "\n",
    "If the Ironhack Airlines routinely sells 460 tickets, what is the chance that they have a seats for all passenger?"
   ]
  },
  {
   "cell_type": "code",
   "execution_count": 2,
   "metadata": {},
   "outputs": [
    {
     "data": {
      "text/plain": [
       "0.8844772466215431"
      ]
     },
     "execution_count": 2,
     "metadata": {},
     "output_type": "execute_result"
    }
   ],
   "source": [
    "from scipy.stats import binom\n",
    "\n",
    "n = 460\n",
    "p = 0.97\n",
    "binom_dist = binom(n,p)\n",
    "binom_dist.cdf(450)\n",
    "\n",
    "# 0.88 is the chance that they have a seats for all passenger"
   ]
  },
  {
   "cell_type": "code",
   "execution_count": 3,
   "metadata": {},
   "outputs": [
    {
     "name": "stdout",
     "output_type": "stream",
     "text": [
      "Probability of having enough seats for all passengers: 18.53%\n"
     ]
    }
   ],
   "source": [
    "#code here\n",
    "\n",
    "from scipy.stats import binom\n",
    "\n",
    "# Number of passengers\n",
    "n_passengers = 460\n",
    "\n",
    "# Probability of a passenger missing their flight\n",
    "p_miss_flight = 0.03\n",
    "\n",
    "# Number of seats available\n",
    "n_seats = 450\n",
    "\n",
    "# Calculate the number of passengers who may miss their flight\n",
    "x = n_passengers - n_seats\n",
    "\n",
    "# Calculate the probability using the cumulative distribution function (CDF) of the binomial distribution\n",
    "# The probability of having x or fewer passengers missing their flight\n",
    "probability_no_overbooking = binom.cdf(x, n_passengers, p_miss_flight)\n",
    "\n",
    "print(\"Probability of having enough seats for all passengers: {:.2f}%\".format(probability_no_overbooking * 100))"
   ]
  },
  {
   "cell_type": "markdown",
   "metadata": {},
   "source": [
    "**Challenge 2**"
   ]
  },
  {
   "cell_type": "markdown",
   "metadata": {},
   "source": [
    "#### Ironhack Call Center "
   ]
  },
  {
   "cell_type": "markdown",
   "metadata": {},
   "source": [
    "Suppose a customer service representative at a call center is handling customer complaints. Consider the following:\n",
    "- The probability of successfully resolving a customer complaint on the first attempt is 0.3. \n",
    "\n",
    "\n",
    "What is the probability that the representative needs to make at least three attempts before successfully resolving a customer complaint?"
   ]
  },
  {
   "cell_type": "code",
   "execution_count": 4,
   "metadata": {},
   "outputs": [
    {
     "name": "stdout",
     "output_type": "stream",
     "text": [
      "Probability of needing at least three attempts: 14.70%\n"
     ]
    }
   ],
   "source": [
    "#code here\n",
    "\n",
    "# Probability of successfully resolving a customer complaint on the first attempt\n",
    "p_first_attempt = 0.3\n",
    "\n",
    "# Probability of failure (not resolving the complaint) on the first attempt\n",
    "q_first_attempt = 1 - p_first_attempt\n",
    "\n",
    "# Number of attempts required\n",
    "n_attempts = 3\n",
    "\n",
    "# Probability of the representative needing to make at least three attempts before successfully resolving a customer complaint\n",
    "probability = q_first_attempt ** (n_attempts - 1) * p_first_attempt\n",
    "\n",
    "print(\"Probability of needing at least three attempts: {:.2f}%\".format(probability * 100))"
   ]
  },
  {
   "cell_type": "markdown",
   "metadata": {},
   "source": [
    "**Challenge 3**"
   ]
  },
  {
   "cell_type": "markdown",
   "metadata": {},
   "source": [
    "#### Ironhack Website"
   ]
  },
  {
   "cell_type": "markdown",
   "metadata": {},
   "source": [
    "Consider a scenario related to Ironhack website traffic. Where:\n",
    "- our website takes on average 500 visits per hour.\n",
    "- the website's server is designed to handle up to 550 vists per hour.\n",
    "\n",
    "\n",
    "What is the probability of the website server being overwhelmed?"
   ]
  },
  {
   "cell_type": "code",
   "execution_count": 5,
   "metadata": {},
   "outputs": [
    {
     "name": "stdout",
     "output_type": "stream",
     "text": [
      "Probability of the website server being overwhelmed: 1.29%\n"
     ]
    }
   ],
   "source": [
    "#code here\n",
    "\n",
    "from scipy.stats import poisson\n",
    "\n",
    "# Average number of visits per hour\n",
    "lambda_visits = 500\n",
    "\n",
    "# Capacity of the website's server\n",
    "server_capacity = 550\n",
    "\n",
    "# Probability of the website server being overwhelmed (exceeding its capacity)\n",
    "probability_overwhelmed = 1 - poisson.cdf(server_capacity, lambda_visits)\n",
    "\n",
    "print(\"Probability of the website server being overwhelmed: {:.2f}%\".format(probability_overwhelmed * 100))"
   ]
  },
  {
   "cell_type": "markdown",
   "metadata": {},
   "source": [
    "What is the probability of being overwhelmed at some point during a day? (consider 24hours)"
   ]
  },
  {
   "cell_type": "code",
   "execution_count": 6,
   "metadata": {},
   "outputs": [
    {
     "name": "stdout",
     "output_type": "stream",
     "text": [
      "Probability of being overwhelmed at some point during the day: 26.77%\n"
     ]
    }
   ],
   "source": [
    "#code here\n",
    "\n",
    "# Average number of visits per hour\n",
    "lambda_visits = 500\n",
    "\n",
    "# Capacity of the website's server\n",
    "server_capacity = 550\n",
    "\n",
    "# Probability of the server not being overwhelmed at any time during the day\n",
    "probability_not_overwhelmed_hourly = poisson.cdf(server_capacity, lambda_visits)\n",
    "\n",
    "# Probability of the server not being overwhelmed at any time during the day\n",
    "probability_not_overwhelmed_daily = probability_not_overwhelmed_hourly ** 24\n",
    "\n",
    "# Probability of being overwhelmed at some point during the day\n",
    "probability_overwhelmed_daily = 1 - probability_not_overwhelmed_daily\n",
    "\n",
    "print(\"Probability of being overwhelmed at some point during the day: {:.2f}%\".format(probability_overwhelmed_daily * 100))"
   ]
  },
  {
   "cell_type": "markdown",
   "metadata": {},
   "source": [
    "**Challenge 4**"
   ]
  },
  {
   "cell_type": "markdown",
   "metadata": {},
   "source": [
    "#### Ironhack Helpdesk"
   ]
  },
  {
   "cell_type": "markdown",
   "metadata": {},
   "source": [
    "Consider a scenario related to the time between arrivals of customers at a service desk.\n",
    "\n",
    "On average, a customers arrives every 10minutes.\n",
    "\n",
    "What is the probability that the next customer will arrive within the next 5 minutes?"
   ]
  },
  {
   "cell_type": "code",
   "execution_count": 7,
   "metadata": {},
   "outputs": [
    {
     "name": "stdout",
     "output_type": "stream",
     "text": [
      "Probability of getting exactly 5 successes: 0.24609375000000003\n",
      "Probability of getting 5 or fewer successes: 0.623046875\n",
      "Random samples from the binomial distribution: [6 6 6 6 4 6 4 5 7 4 9 3 5 5 7 4 6 5 5 6 6 4 3 6 4 4 5 7 5 5 3 6 7 3 5 5 4\n",
      " 6 6 6 3 8 6 6 4 7 4 5 5 6 4 2 6 3 5 7 4 5 6 6 8 4 6 4 6 3 5 7 3 6 1 3 6 4\n",
      " 4 5 5 4 5 8 3 2 6 5 5 4 2 8 8 4 4 5 6 3 6 3 6 5 7 4 5 7 6 6 7 0 4 7 4 4 3\n",
      " 6 5 6 5 4 5 5 6 4 5 4 3 5 4 5 6 7 8 8 5 4 5 5 5 3 6 5 5 5 1 7 4 8 4 5 6 6\n",
      " 4 5 5 7 4 6 4 4 4 4 7 4 5 3 4 4 2 7 7 4 7 3 4 4 4 6 6 5 5 6 5 4 6 8 4 7 6\n",
      " 4 5 5 6 6 6 5 7 7 6 6 6 5 5 5 8 7 8 4 5 6 6 4 6 4 3 6 5 6 5 7 7 6 3 7 4 4\n",
      " 4 5 4 2 5 4 7 0 4 6 7 8 1 4 6 7 5 6 6 4 5 3 8 6 4 6 4 3 7 7 5 5 4 4 4 1 3\n",
      " 3 5 7 6 5 7 6 5 6 4 8 3 5 7 5 3 5 5 6 5 5 5 5 6 7 6 5 5 4 6 5 6 6 4 7 3 3\n",
      " 8 3 6 7 6 7 4 6 5 6 5 6 5 3 5 7 3 3 6 6 5 6 4 2 8 7 4 6 7 8 4 5 5 4 2 7 5\n",
      " 4 6 5 7 5 5 5 6 7 7 6 7 4 5 4 5 4 2 5 5 5 7 2 5 4 4 6 7 6 7 6 4 7 4 2 7 8\n",
      " 3 6 3 8 4 4 6 6 8 4 4 6 4 7 1 7 5 5 4 5 4 4 4 7 7 6 5 7 3 5 6 4 8 6 5 2 3\n",
      " 5 4 5 9 5 2 5 6 9 6 4 7 7 2 7 4 5 4 7 4 4 7 3 3 5 6 5 3 4 7 4 6 7 3 4 5 4\n",
      " 3 6 4 5 5 5 5 7 5 1 6 2 5 6 3 6 3 7 4 5 4 7 3 3 6 4 5 7 6 6 5 4 7 5 4 2 5\n",
      " 3 3 3 4 4 6 4 6 5 5 7 3 6 3 5 6 6 3 2 4 6 6 6 4 4 2 4 6 5 4 5 6 4 6 6 5 5\n",
      " 5 3 3 4 7 6 7 4 4 5 8 5 5 8 7 7 5 6 3 5 6 5 7 5 5 3 7 7 4 6 7 7 4 3 4 3 3\n",
      " 6 7 4 5 6 5 6 2 3 5 4 5 4 6 5 4 4 5 4 6 6 5 3 4 9 6 5 4 7 4 6 7 2 4 6 8 5\n",
      " 4 4 6 6 5 6 4 2 8 6 6 4 5 4 5 6 6 3 6 6 3 4 4 6 4 4 7 7 3 6 4 6 5 4 4 6 6\n",
      " 3 5 5 4 5 5 5 4 5 5 5 7 5 3 8 8 5 6 3 7 5 6 6 4 6 6 5 2 5 6 4 4 3 4 5 3 7\n",
      " 5 6 3 5 5 5 5 6 5 2 6 5 8 6 4 4 6 5 5 5 5 8 4 6 7 5 5 7 3 6 7 2 3 5 6 3 6\n",
      " 4 5 2 4 2 6 7 7 1 4 4 5 5 6 3 4 3 5 8 5 2 6 9 4 8 8 4 6 5 3 7 7 6 5 8 4 8\n",
      " 5 5 8 5 2 5 2 6 5 3 8 7 6 5 4 3 5 2 1 5 4 4 3 2 5 8 3 5 7 3 6 2 5 6 6 7 7\n",
      " 4 4 7 3 4 4 6 6 3 4 6 5 4 5 6 5 7 5 5 2 6 8 6 5 4 7 3 2 6 6 3 3 4 7 3 5 7\n",
      " 5 4 3 3 5 4 7 5 8 5 5 3 3 6 1 3 7 5 4 3 8 2 4 3 5 5 3 5 5 3 3 5 6 6 3 6 3\n",
      " 4 4 6 6 2 6 4 5 5 3 7 4 6 5 5 6 6 2 6 5 8 4 6 5 4 7 3 4 6 7 3 4 5 7 7 8 7\n",
      " 6 6 6 3 4 3 4 5 4 6 6 5 6 4 6 4 6 6 5 5 6 4 3 7 4 4 8 5 4 4 5 7 7 8 4 3 3\n",
      " 5 3 5 5 5 5 1 6 2 6 6 7 4 5 5 4 2 4 6 3 4 7 3 6 4 6 6 3 8 6 4 7 7 5 6 4 6\n",
      " 6 4 3 3 5 6 6 5 6 7 3 7 5 6 2 8 6 6 2 3 1 5 5 5 9 5 6 5 4 4 5 7 6 6 4 4 6\n",
      " 3]\n"
     ]
    }
   ],
   "source": [
    "# Define the parameters of the binomial distribution\n",
    "n = 10  # Number of trials\n",
    "p = 0.5  # Probability of success for each trial (e.g., flipping heads)\n",
    "\n",
    "# Calculate the probability mass function (PMF) for a specific value of k (number of successes)\n",
    "k = 5  # Number of successes\n",
    "pmf_value = binom.pmf(k, n, p)\n",
    "print(\"Probability of getting exactly 5 successes:\", pmf_value)\n",
    "\n",
    "# Calculate the cumulative distribution function (CDF) for a specific value of k\n",
    "cdf_value = binom.cdf(k, n, p)\n",
    "print(\"Probability of getting 5 or fewer successes:\", cdf_value)\n",
    "\n",
    "# Generate random samples from the binomial distribution\n",
    "random_samples = binom.rvs(n, p, size=1000)\n",
    "print(\"Random samples from the binomial distribution:\", random_samples)"
   ]
  },
  {
   "cell_type": "markdown",
   "metadata": {},
   "source": [
    "If there is no customer for 15minutes, employees can that a 5minutes break.\n",
    "\n",
    "What is the probability an employee taking a break?"
   ]
  },
  {
   "cell_type": "code",
   "execution_count": 9,
   "metadata": {},
   "outputs": [
    {
     "name": "stdout",
     "output_type": "stream",
     "text": [
      "Probability of taking a break: 0.2231301601484298\n"
     ]
    }
   ],
   "source": [
    "from scipy.stats import expon\n",
    "\n",
    "# Define parameters\n",
    "lmbda = 1 / 10  # Rate parameter\n",
    "t = 15  # Time interval (minutes)\n",
    "\n",
    "# Calculate the probability of no customer arrival within 15 minutes\n",
    "probability_no_arrival = expon.cdf(t, scale=1/lmbda)\n",
    "\n",
    "# Calculate the probability of taking a break (complementary event)\n",
    "probability_break = 1 - probability_no_arrival\n",
    "\n",
    "print(\"Probability of taking a break:\", probability_break)"
   ]
  },
  {
   "cell_type": "markdown",
   "metadata": {},
   "source": [
    "**Challenge 5**"
   ]
  },
  {
   "cell_type": "markdown",
   "metadata": {},
   "source": [
    "The weights of a certain species of birds follow a normal distribution with a mean weight of 150 grams and a standard deviation of 10 grams. \n",
    "\n",
    "- If we randomly select a bird, what is the probability that its weight is between 140 and 160 grams?"
   ]
  },
  {
   "cell_type": "code",
   "execution_count": 10,
   "metadata": {},
   "outputs": [
    {
     "name": "stdout",
     "output_type": "stream",
     "text": [
      "Probability that the bird's weight is between 140 and 160 grams: 0.6826894921370859\n"
     ]
    }
   ],
   "source": [
    "#code here\n",
    "\n",
    "from scipy.stats import norm\n",
    "\n",
    "# Define parameters\n",
    "mu = 150  # Mean weight (grams)\n",
    "sigma = 10  # Standard deviation (grams)\n",
    "lower_bound = 140  # Lower bound of the weight range (grams)\n",
    "upper_bound = 160  # Upper bound of the weight range (grams)\n",
    "\n",
    "# Calculate the probability using the CDF\n",
    "probability_between = norm.cdf(upper_bound, loc=mu, scale=sigma) - norm.cdf(lower_bound, loc=mu, scale=sigma)\n",
    "\n",
    "print(\"Probability that the bird's weight is between 140 and 160 grams:\", probability_between)"
   ]
  },
  {
   "cell_type": "markdown",
   "metadata": {},
   "source": [
    "**Challenge 6**"
   ]
  },
  {
   "cell_type": "markdown",
   "metadata": {},
   "source": [
    "If the lifetime (in hours) of a certain electronic component follows an exponential distribution with a mean lifetime of 50 hours, what is the probability that the component fails within the first 30 hours?"
   ]
  },
  {
   "cell_type": "code",
   "execution_count": 11,
   "metadata": {},
   "outputs": [
    {
     "name": "stdout",
     "output_type": "stream",
     "text": [
      "Probability that the component fails within the first 30 hours: 0.4511883639059735\n"
     ]
    }
   ],
   "source": [
    "#code here\n",
    "\n",
    "# Define parameters\n",
    "mu = 50  # Mean lifetime (hours)\n",
    "t = 30  # Time (hours)\n",
    "\n",
    "# Calculate the probability using the CDF\n",
    "probability_failure_within_30_hours = expon.cdf(t, scale=mu)\n",
    "\n",
    "print(\"Probability that the component fails within the first 30 hours:\", probability_failure_within_30_hours)"
   ]
  },
  {
   "cell_type": "code",
   "execution_count": null,
   "metadata": {},
   "outputs": [],
   "source": []
  }
 ],
 "metadata": {
  "kernelspec": {
   "display_name": "Python 3 (ipykernel)",
   "language": "python",
   "name": "python3"
  },
  "language_info": {
   "codemirror_mode": {
    "name": "ipython",
    "version": 3
   },
   "file_extension": ".py",
   "mimetype": "text/x-python",
   "name": "python",
   "nbconvert_exporter": "python",
   "pygments_lexer": "ipython3",
   "version": "3.11.7"
  }
 },
 "nbformat": 4,
 "nbformat_minor": 4
}
